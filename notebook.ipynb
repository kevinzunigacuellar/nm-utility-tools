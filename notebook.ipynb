{
 "cells": [
  {
   "cell_type": "code",
   "execution_count": 2,
   "metadata": {},
   "outputs": [],
   "source": [
    "# read data/images-tem.json\n",
    "import pandas as pd\n",
    "import json\n",
    "\n",
    "# df display options\n",
    "pd.set_option('max_colwidth',100)\n",
    "\n",
    "# read json file\n",
    "with open('data/images-tem.json') as f:\n",
    "    data = json.load(f)\n",
    "\n",
    "# read json file into pandas dataframe\n",
    "df = pd.json_normalize(data, meta=['metaData'])\n",
    "\n",
    "# clean up dataframe\n",
    "df.rename(columns={'metaData.doi': 'doi'}, inplace=True)\n",
    "df.rename(columns={'metaData.title': 'title'}, inplace=True)\n",
    "df.rename(columns={'metaData.id': 'id'}, inplace=True)\n",
    "df.rename(columns={'microscopyType': 'microscopy_type'}, inplace=True)\n",
    "df.drop(columns=['metaData.keywords'], inplace=True)\n"
   ]
  },
  {
   "cell_type": "code",
   "execution_count": 3,
   "metadata": {},
   "outputs": [
    {
     "name": "stdout",
     "output_type": "stream",
     "text": [
      "Columns: ['file', 'description', 'microscopy_type', 'type', 'title', 'id', 'doi']\n"
     ]
    }
   ],
   "source": [
    "# print dataframe columns in a list\n",
    "print(f'Columns: {list(df.columns)}')"
   ]
  },
  {
   "cell_type": "code",
   "execution_count": 4,
   "metadata": {},
   "outputs": [
    {
     "name": "stdout",
     "output_type": "stream",
     "text": [
      "Number of unique DOIs: 63\n"
     ]
    }
   ],
   "source": [
    "# number of unique DOIs\n",
    "print(f'Number of unique DOIs: {len(df[\"doi\"].unique())}')"
   ]
  },
  {
   "cell_type": "code",
   "execution_count": 5,
   "metadata": {},
   "outputs": [
    {
     "name": "stdout",
     "output_type": "stream",
     "text": [
      "Number of unique samples: 871\n"
     ]
    }
   ],
   "source": [
    "\n",
    "# id : Some images share the same id because they come from the same sample\n",
    "print(f'Number of unique samples: {len(df[\"id\"].unique())}')\n",
    "\n",
    "# create a new column with the blob id (uuid in the file path)\n",
    "df['blob_id'] = df['file'].apply(lambda x: x.split('/')[-1])\n"
   ]
  },
  {
   "cell_type": "code",
   "execution_count": 6,
   "metadata": {},
   "outputs": [],
   "source": [
    "## new copy of the dataframe to work with\n",
    "df2 = df.copy()\n",
    "df2.drop(columns=['title', 'microscopy_type', 'type', 'description'], inplace=True)\n",
    "\n",
    "# create a new column with the number of files per id (may be more than 1)\n",
    "df2['count'] = df2.groupby('id')['file'].transform('count')\n",
    "\n",
    "# group by id and stack the files into a list but keep doi and id and count\n",
    "df2 = df2.groupby(['id', 'doi', 'count'])['file'].apply(list).reset_index(name='urls')\n"
   ]
  },
  {
   "cell_type": "code",
   "execution_count": 7,
   "metadata": {},
   "outputs": [
    {
     "name": "stdout",
     "output_type": "stream",
     "text": [
      "Number of samples with 1 image: 679\n",
      "Number of samples with 2 images: 165\n",
      "Number of samples with 3 images: 20\n",
      "Number of samples with 4 images: 5\n",
      "Number of samples with 5 images: 1\n",
      "Total number of samples : 870\n"
     ]
    }
   ],
   "source": [
    "# Some useful stats\n",
    "print(f'Number of samples with 1 image: {len(df2[df2[\"count\"] == 1])}')\n",
    "print(f'Number of samples with 2 images: {len(df2[df2[\"count\"] == 2])}')\n",
    "print(f'Number of samples with 3 images: {len(df2[df2[\"count\"] == 3])}')\n",
    "print(f'Number of samples with 4 images: {len(df2[df2[\"count\"] == 4])}')\n",
    "print(f'Number of samples with 5 images: {len(df2[df2[\"count\"] == 5])}')\n",
    "print(f'Total number of samples : {len(df2)}')\n"
   ]
  },
  {
   "cell_type": "code",
   "execution_count": 8,
   "metadata": {},
   "outputs": [],
   "source": [
    "# examples of samples with 2 images\n",
    "num_samples = 5\n",
    "for i in df2[df2[\"count\"] == 2].index[:num_samples]:\n",
    "    #print(df2.iloc[i]['urls'])\n",
    "    pass\n"
   ]
  },
  {
   "cell_type": "code",
   "execution_count": 9,
   "metadata": {},
   "outputs": [],
   "source": [
    "# examples of samples with 3 images\n",
    "num_samples = 2\n",
    "for i in df2[df2[\"count\"] == 3].index[:num_samples]:\n",
    "    #print(df2.iloc[i]['urls'])\n",
    "    pass"
   ]
  },
  {
   "cell_type": "code",
   "execution_count": 10,
   "metadata": {},
   "outputs": [],
   "source": [
    "# examples of samples with 4 images\n",
    "num_samples = 2\n",
    "for i in df2[df2[\"count\"] == 4].index[:num_samples]:\n",
    "    #print(df2.iloc[i]['urls'])\n",
    "    pass"
   ]
  },
  {
   "cell_type": "code",
   "execution_count": 11,
   "metadata": {},
   "outputs": [
    {
     "data": {
      "text/html": [
       "<div>\n",
       "<style scoped>\n",
       "    .dataframe tbody tr th:only-of-type {\n",
       "        vertical-align: middle;\n",
       "    }\n",
       "\n",
       "    .dataframe tbody tr th {\n",
       "        vertical-align: top;\n",
       "    }\n",
       "\n",
       "    .dataframe thead th {\n",
       "        text-align: right;\n",
       "    }\n",
       "</style>\n",
       "<table border=\"1\" class=\"dataframe\">\n",
       "  <thead>\n",
       "    <tr style=\"text-align: right;\">\n",
       "      <th></th>\n",
       "      <th>id</th>\n",
       "      <th>doi</th>\n",
       "      <th>count</th>\n",
       "      <th>urls</th>\n",
       "      <th>bin_file</th>\n",
       "    </tr>\n",
       "  </thead>\n",
       "  <tbody>\n",
       "    <tr>\n",
       "      <th>0</th>\n",
       "      <td>58587c9be74a1d205f4ea8c8</td>\n",
       "      <td>10.1039/c4ra15178j</td>\n",
       "      <td>1</td>\n",
       "      <td>[https://qa.materialsmine.org/api/files/58580ef2e74a1d205f4e8b12]</td>\n",
       "      <td>[images/58580ef2e74a1d205f4e8b12.png]</td>\n",
       "    </tr>\n",
       "    <tr>\n",
       "      <th>1</th>\n",
       "      <td>5876fa3de74a1d6c0d2dd154</td>\n",
       "      <td>10.1039/c4ra15178j</td>\n",
       "      <td>1</td>\n",
       "      <td>[https://qa.materialsmine.org/api/files/58583dd8e74a1d205f4e9757]</td>\n",
       "      <td>[images/58583dd8e74a1d205f4e9757.png]</td>\n",
       "    </tr>\n",
       "    <tr>\n",
       "      <th>2</th>\n",
       "      <td>5a1deb51e74a1d03cd1e5fea</td>\n",
       "      <td>10.1021/ma400553c</td>\n",
       "      <td>1</td>\n",
       "      <td>[https://qa.materialsmine.org/api/files/59668196e74a1d62877b9728]</td>\n",
       "      <td>[images/59668196e74a1d62877b9728.png]</td>\n",
       "    </tr>\n",
       "    <tr>\n",
       "      <th>3</th>\n",
       "      <td>5a1deb54e74a1d03cd1e5ff5</td>\n",
       "      <td>10.1016/j.polymer.2011.12.019</td>\n",
       "      <td>2</td>\n",
       "      <td>[https://qa.materialsmine.org/api/files/5978e5dbe74a1d157722955f, https://qa.materialsmine.org/a...</td>\n",
       "      <td>[images/5978e5dbe74a1d157722955f.png, images/5978e5d5e74a1d157722955d.png]</td>\n",
       "    </tr>\n",
       "    <tr>\n",
       "      <th>4</th>\n",
       "      <td>5a1deb55e74a1d03cd1e5ffa</td>\n",
       "      <td>10.1016/j.compscitech.2006.01.030</td>\n",
       "      <td>1</td>\n",
       "      <td>[https://qa.materialsmine.org/api/files/59113c7be74a1d36e1b7ea5a]</td>\n",
       "      <td>[images/59113c7be74a1d36e1b7ea5a.png]</td>\n",
       "    </tr>\n",
       "  </tbody>\n",
       "</table>\n",
       "</div>"
      ],
      "text/plain": [
       "                         id                                doi  count  \\\n",
       "0  58587c9be74a1d205f4ea8c8                 10.1039/c4ra15178j      1   \n",
       "1  5876fa3de74a1d6c0d2dd154                 10.1039/c4ra15178j      1   \n",
       "2  5a1deb51e74a1d03cd1e5fea                  10.1021/ma400553c      1   \n",
       "3  5a1deb54e74a1d03cd1e5ff5      10.1016/j.polymer.2011.12.019      2   \n",
       "4  5a1deb55e74a1d03cd1e5ffa  10.1016/j.compscitech.2006.01.030      1   \n",
       "\n",
       "                                                                                                  urls  \\\n",
       "0                                    [https://qa.materialsmine.org/api/files/58580ef2e74a1d205f4e8b12]   \n",
       "1                                    [https://qa.materialsmine.org/api/files/58583dd8e74a1d205f4e9757]   \n",
       "2                                    [https://qa.materialsmine.org/api/files/59668196e74a1d62877b9728]   \n",
       "3  [https://qa.materialsmine.org/api/files/5978e5dbe74a1d157722955f, https://qa.materialsmine.org/a...   \n",
       "4                                    [https://qa.materialsmine.org/api/files/59113c7be74a1d36e1b7ea5a]   \n",
       "\n",
       "                                                                     bin_file  \n",
       "0                                       [images/58580ef2e74a1d205f4e8b12.png]  \n",
       "1                                       [images/58583dd8e74a1d205f4e9757.png]  \n",
       "2                                       [images/59668196e74a1d62877b9728.png]  \n",
       "3  [images/5978e5dbe74a1d157722955f.png, images/5978e5d5e74a1d157722955d.png]  \n",
       "4                                       [images/59113c7be74a1d36e1b7ea5a.png]  "
      ]
     },
     "execution_count": 11,
     "metadata": {},
     "output_type": "execute_result"
    }
   ],
   "source": [
    "# add binarized file location on disk \n",
    "df2['bin_file'] = df2['urls'].apply(lambda x: [f'images/{i.split(\"/\")[-1]}.png' for i in x])\n",
    "df2.head()\n"
   ]
  },
  {
   "attachments": {},
   "cell_type": "markdown",
   "metadata": {},
   "source": [
    "**How to connect every sample image in `df1` to its corresponding sample stored in Nanomine?**\n",
    "\n",
    "I have a list of 870 sample images that I need to be able to connect to a sample. A sample in nanomine is defined by a slug. For example `https://qa.materialsmine.org/explorer/sample/e408-s23-prasad-2021` has the slug `e408-s23-prasad-2021`. \n",
    "\n",
    "With the following sparql query I am able to query all the sample images from the knowledge graph.\n",
    "\n",
    "```sparql\n",
    "PREFIX rdf: <http://www.w3.org/1999/02/22-rdf-syntax-ns#>\n",
    "PREFIX rdfs: <http://www.w3.org/2000/01/rdf-schema#>\n",
    "PREFIX dct: <http://purl.org/dc/terms/>\n",
    "PREFIX sio: <http://semanticscience.org/resource/>\n",
    "PREFIX mm: <http://materialsmine.org/ns/>\n",
    "PREFIX prov: <http://www.w3.org/ns/prov#>\n",
    "SELECT DISTINCT * WHERE {\n",
    "    ?sample a mm:PolymerNanocomposite ;\n",
    "            sio:isRepresentedBy ?image .\n",
    "\tFILTER(!REGEX(STR(?image),\"localhost\"))\n",
    "    FILTER(!REGEX(STR(?image),\"XMLCONV\"))\n",
    "  }\n",
    "```\n",
    "\n",
    "This query returns a table with the following columns:\n",
    "| sample | image |\n",
    "|---|---|\n",
    "| http://materialsmine.org/sample/e408-s16-prasad-2021 | https://nanomine.org/nmr/blob?id=60b932a68558b7dc6dd6ebe5 |\n",
    "\n",
    "Using the sample column I can get the slug of the sample. And using the image column I can get the id of the image in nanomine.\n",
    "\n"
   ]
  },
  {
   "cell_type": "code",
   "execution_count": 16,
   "metadata": {},
   "outputs": [
    {
     "name": "stdout",
     "output_type": "stream",
     "text": [
      "Number of blob ids in sparql query: 0\n"
     ]
    }
   ],
   "source": [
    "# read SPARQL query results (this contains the slug for each sample)\n",
    "\n",
    "sparqldf = pd.read_csv('data/queryResults.csv')\n",
    "sparqldf.head()\n",
    "\n",
    "# clean up column names\n",
    "sparqldf.columns = sparqldf.columns.str.replace('\"', '')\n",
    "sparqldf.columns = sparqldf.columns.str.replace(' ', '')\n",
    "\n",
    "# create a new column with the slug\n",
    "sparqldf['slug'] = sparqldf['sample'].apply(lambda x: x.split('/')[-1])\n",
    "\n",
    "# clean up the image column\n",
    "sparqldf['image'] = sparqldf['image'].apply(lambda x: x.replace('\"', ''))\n",
    "sparqldf['image'] = sparqldf['image'].apply(lambda x: x.replace(' ', ''))\n",
    "\n",
    "# extract the blob_id and create a new column for the blob id\n",
    "sparqldf['blob_id'] = sparqldf['image'].apply(lambda x: x.split('=')[-1])\n",
    "\n",
    "# clean up the blob id column\n",
    "sparqldf['blob_id'] = sparqldf['blob_id'].apply(lambda x: x.replace(' ', ''))\n",
    "\n",
    "# [debug] check for a clean blob id\n",
    "sparqldf['blob_id'].sample(5).tolist()\n",
    "\n",
    "# check how many blob ids (images) are in the sparql query\n",
    "count = 0\n",
    "for blob_id in df['blob_id'].tolist():\n",
    "    if blob_id in sparqldf['blob_id'].tolist():\n",
    "        count += 1\n",
    "print(f'Number of blob ids in sparql query: {count}')"
   ]
  }
 ],
 "metadata": {
  "kernelspec": {
   "display_name": ".venv",
   "language": "python",
   "name": "python3"
  },
  "language_info": {
   "codemirror_mode": {
    "name": "ipython",
    "version": 3
   },
   "file_extension": ".py",
   "mimetype": "text/x-python",
   "name": "python",
   "nbconvert_exporter": "python",
   "pygments_lexer": "ipython3",
   "version": "3.10.9"
  },
  "orig_nbformat": 4,
  "vscode": {
   "interpreter": {
    "hash": "e37b56d85e3ee15b3f981957f6caf6db5b9587cb0c4844e573469f513c613d18"
   }
  }
 },
 "nbformat": 4,
 "nbformat_minor": 2
}
