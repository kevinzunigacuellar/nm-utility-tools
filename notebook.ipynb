{
 "cells": [
  {
   "cell_type": "code",
   "execution_count": 34,
   "metadata": {},
   "outputs": [],
   "source": [
    "# read data/images-tem.json\n",
    "import pandas as pd\n",
    "import json\n",
    "\n",
    "# df display options\n",
    "pd.set_option('max_colwidth',100)\n",
    "\n",
    "# read json file\n",
    "with open('data/images-tem.json') as f:\n",
    "    data = json.load(f)\n",
    "\n",
    "# read json file into pandas dataframe\n",
    "df = pd.json_normalize(data, meta=['metaData'])\n",
    "\n",
    "# clean up dataframe\n",
    "df.rename(columns={'metaData.doi': 'doi'}, inplace=True)\n",
    "df.rename(columns={'metaData.title': 'title'}, inplace=True)\n",
    "df.rename(columns={'metaData.id': 'id'}, inplace=True)\n",
    "df.rename(columns={'microscopyType': 'microscopy_type'}, inplace=True)\n",
    "df.drop(columns=['metaData.keywords'], inplace=True)\n"
   ]
  },
  {
   "cell_type": "code",
   "execution_count": 35,
   "metadata": {},
   "outputs": [
    {
     "name": "stdout",
     "output_type": "stream",
     "text": [
      "Columns: ['file', 'description', 'microscopy_type', 'type', 'title', 'id', 'doi']\n"
     ]
    }
   ],
   "source": [
    "# print dataframe columns in a list\n",
    "print(f'Columns: {list(df.columns)}')"
   ]
  },
  {
   "cell_type": "code",
   "execution_count": 33,
   "metadata": {},
   "outputs": [
    {
     "name": "stdout",
     "output_type": "stream",
     "text": [
      "Number of unique DOIs: 63\n"
     ]
    }
   ],
   "source": [
    "# number of unique DOIs\n",
    "print(f'Number of unique DOIs: {len(df[\"doi\"].unique())}')"
   ]
  },
  {
   "cell_type": "code",
   "execution_count": null,
   "metadata": {},
   "outputs": [],
   "source": [
    "\n",
    "# group by id show only the ones with more than 1, show only the file column and id column show first 10 rows\n",
    "# show count of unique\n",
    "# df.groupby('id').filter(lambda x: len(x) > 1)[['file', 'id']].value_counts()\n",
    "# df.groupby('doi').head(15)\n",
    "\n",
    "# show entire file name\n",
    "# df.groupby('id').filter(lambda x: len(x) > 1)[['file']]\n",
    "# df.groupby('id').filter(lambda x: len(x) > 1)"
   ]
  }
 ],
 "metadata": {
  "kernelspec": {
   "display_name": ".venv",
   "language": "python",
   "name": "python3"
  },
  "language_info": {
   "codemirror_mode": {
    "name": "ipython",
    "version": 3
   },
   "file_extension": ".py",
   "mimetype": "text/x-python",
   "name": "python",
   "nbconvert_exporter": "python",
   "pygments_lexer": "ipython3",
   "version": "3.10.9"
  },
  "orig_nbformat": 4,
  "vscode": {
   "interpreter": {
    "hash": "e37b56d85e3ee15b3f981957f6caf6db5b9587cb0c4844e573469f513c613d18"
   }
  }
 },
 "nbformat": 4,
 "nbformat_minor": 2
}
